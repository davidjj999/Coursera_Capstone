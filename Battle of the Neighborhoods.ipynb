{
    "nbformat_minor": 1, 
    "cells": [
        {
            "source": "# Finding the Best Neighborhood for an NFL Stadium in Portland, OR\n## Applied Data Science Capstone\n## David Johnson\n\n### Introduction and Business Problem\nThe National Football League is a 32 team professional sports league that plays American football in the United States.  The NFL is very popular, with an average live attendance of 68,400 spectators per game.  This average revenue for an NFL team is around 450 million dollars, with approximately two thirds coming from television deals.  The remaining third, approximately 150 million dollars per year, comes from local business at the stadium, such as tickets, parking, and concessions.\n\nPortland, Oregon, with a population of around 2.3 million, is one of the largest cities in the United States without an NFL team.   There is a potential business opportunity to build a football stadium in Portland, with the hopes of eventually gaining an NFL team.  But where should the stadium be built?\n\nThis report uses Data Science methods to answer the question of where the stadium should be built.  By evaluating which neighborhood in Portland is most similar to the neighborhoods around existing NFL stadiums in other cities we will recommend a construction location to the stakeholders.\n\n### Data\nData sources for this project will include:\n\n* List of neighborhoods in Portland, Oregon https://en.wikipedia.org/wiki/Neighborhoods_of_Portland,_Oregon\n* List of current NFL stadiums https://en.wikipedia.org/wiki/List_of_current_National_Football_League_stadiums\n* Foursquare data for venues https://foursquare.com/developers/apps\n\nSince every city is different, we will use take the Foursquare data for venues near NFL stadiums and use a K-means algorithm to cluster these into groups.  We will then evaluate the neighborhoods in Portland to determine which neighborhood is the most similar to one of the previously determined groups.\n", 
            "cell_type": "markdown", 
            "metadata": {
                "collapsed": true
            }
        }, 
        {
            "execution_count": null, 
            "cell_type": "code", 
            "metadata": {}, 
            "outputs": [], 
            "source": ""
        }
    ], 
    "metadata": {
        "kernelspec": {
            "display_name": "Python 3.6", 
            "name": "python3", 
            "language": "python"
        }, 
        "language_info": {
            "mimetype": "text/x-python", 
            "nbconvert_exporter": "python", 
            "version": "3.6.8", 
            "name": "python", 
            "file_extension": ".py", 
            "pygments_lexer": "ipython3", 
            "codemirror_mode": {
                "version": 3, 
                "name": "ipython"
            }
        }
    }, 
    "nbformat": 4
}